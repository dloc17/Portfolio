{
 "cells": [
  {
   "cell_type": "code",
   "execution_count": null,
   "id": "fd6a9bd2",
   "metadata": {},
   "outputs": [
    {
     "name": "stdout",
     "output_type": "stream",
     "text": [
      "Requirement already satisfied: nest_asyncio in c:\\users\\derrik\\appdata\\roaming\\python\\python311\\site-packages (1.5.7)\n"
     ]
    }
   ],
   "source": [
    "import time\n",
    "import threading\n",
    "import asyncio\n",
    "from multiprocessing import Process\n",
    "\n",
    "!pip install nest_asyncio\n",
    "import nest_asyncio\n",
    "nest_asyncio.apply()\n"
   ]
  },
  {
   "cell_type": "code",
   "execution_count": 36,
   "id": "5a4875ae",
   "metadata": {},
   "outputs": [],
   "source": [
    "def cal_average(num):  # Average function used for sequential programming, threading, and multiprocessing\n",
    "  sum_num = 0\n",
    "  for t in num:\n",
    "    sum_num = sum_num + t\n",
    "  avg = sum_num / len(num)\n",
    "  time.sleep(1)\n",
    "  return avg"
   ]
  },
  {
   "cell_type": "code",
   "execution_count": 37,
   "id": "5008fa4a",
   "metadata": {},
   "outputs": [],
   "source": [
    "def main_sequential(list1, list2, list3):  # Main wrapper for sequential example\n",
    "  s = time.perf_counter()\n",
    "  cal_average(list1)\n",
    "  cal_average(list2)\n",
    "  cal_average(list3)\n",
    "  elapsed = time.perf_counter() - s\n",
    "  print(\"Sequential Programming Elapsed Time: \" + str(elapsed) + \" seconds\")\n",
    "\n",
    "\n",
    "  elapsed = time.perf_counter() - s\n",
    "  print(\"Sequential Programming Elapsed Time: \" + str(elapsed) + \" seconds\")"
   ]
  },
  {
   "cell_type": "code",
   "execution_count": 38,
   "id": "427138ef",
   "metadata": {},
   "outputs": [],
   "source": [
    "async def cal_average_async(num):  # Average function used for asynchronous programming only ( needs await asyncio.sleep() )\n",
    "  sum_num = 0\n",
    "  for t in num:\n",
    "    sum_num = sum_num + t\n",
    "  avg = sum_num / len(num)\n",
    "  await asyncio.sleep(1)\n",
    "  return avg"
   ]
  },
  {
   "cell_type": "code",
   "execution_count": 39,
   "id": "ccdc31ab",
   "metadata": {},
   "outputs": [],
   "source": [
    "async def main_async(list1, list2, list3):  # Main wrapper for asynchronous example\n",
    "  s = time.perf_counter()\n",
    "  tasks = [cal_average_async(list1), cal_average_async(list2), cal_average_async(list3)]\n",
    "  await asyncio.gather(*tasks)  # Starts all asynchronous tasks and waits for them to complete\n",
    "  elapsed = time.perf_counter() - s\n",
    "  print(\"Asynchronous Programming Elapsed Time: \" + str(elapsed) + \" seconds\")\n",
    "\n",
    "\n",
    "  elapsed = time.perf_counter() - s\n",
    "  print(\"Asynchronous Programming Elapsed Time: \" + str(elapsed) + \" seconds\")"
   ]
  },
  {
   "cell_type": "code",
   "execution_count": 40,
   "id": "30d84c8b",
   "metadata": {},
   "outputs": [],
   "source": [
    "def main_threading(list1, list2, list3):  # Main wrapper for threading example\n",
    "  s = time.perf_counter()\n",
    "  lists = [list1, list2, list3]\n",
    "  threads = list()\n",
    "  for index in range(len(lists)):\n",
    "    x = threading.Thread(target=cal_average, args=(lists[index],))  # Create 1 thread per list\n",
    "    threads.append(x)  # Add each thread to the list of 'threads'\n",
    "    x.start()  # Start all threads\n",
    "  for thread in threads:\n",
    "    thread.join()\n",
    "  elapsed = time.perf_counter() - s\n",
    "  print(\"Threading Elapsed Time: \" + str(elapsed) + \" seconds\")\n",
    "\n",
    "\n",
    "  elapsed = time.perf_counter() - s\n",
    "  print(\"Threading Elapsed Time: \" + str(elapsed) + \" seconds\")"
   ]
  },
  {
   "cell_type": "code",
   "execution_count": 41,
   "id": "a0ab51bf",
   "metadata": {},
   "outputs": [],
   "source": [
    "def main_multiprocessing(list1, list2, list3):  # Main wrapper for multiprocessing example\n",
    "  s = time.perf_counter()\n",
    "  lists = [list1, list2, list3]\n",
    "  processes = [Process(target=cal_average, args=(lists[x],)) for x in range(len(lists))]  # This creates a process per list\n",
    "  for p in processes:\n",
    "    p.start()  # Starts each of the processes\n",
    "  for p in processes:\n",
    "    p.join()\n",
    "  elapsed = time.perf_counter() - s\n",
    "  print(\"Multiprocessing Elapsed Time: \" + str(elapsed) + \" seconds\")\n",
    "\n",
    "\n",
    "  elapsed = time.perf_counter() - s\n",
    "  print(\"Multiprocessing Elapsed Time: \" + str(elapsed) + \" seconds\")"
   ]
  },
  {
   "cell_type": "code",
   "execution_count": 42,
   "id": "cb487bac",
   "metadata": {},
   "outputs": [
    {
     "name": "stdout",
     "output_type": "stream",
     "text": [
      "Sequential Programming Elapsed Time: 3.0014228001236916 seconds\n",
      "Sequential Programming Elapsed Time: 3.0020391000434756 seconds\n",
      "Asynchronous Programming Elapsed Time: 1.0125998000148684 seconds\n",
      "Asynchronous Programming Elapsed Time: 1.0136182000860572 seconds\n",
      "Threading Elapsed Time: 1.002883299952373 seconds\n",
      "Threading Elapsed Time: 1.004153999965638 seconds\n",
      "Multiprocessing Elapsed Time: 0.11678649997338653 seconds\n",
      "Multiprocessing Elapsed Time: 0.11681149993091822 seconds\n"
     ]
    }
   ],
   "source": [
    "if __name__ == '__main__':  # Need to use this if-statement so multiprocessing doesn't cause an infinite loop\n",
    "  l1 = [1, 2, 3, 4, 5, 6, 7, 8, 9, 10]  # Three lists we are trying to calculate average on\n",
    "  l2 = [2, 4, 6, 8, 10]\n",
    "  l3 = [1, 3, 5, 7, 9, 11]\n",
    "  main_sequential(l1, l2, l3)\n",
    "  loop = asyncio.get_event_loop()\n",
    "  loop.run_until_complete(main_async(l1, l2, l3))\n",
    "  main_threading(l1, l2, l3)\n",
    "  main_multiprocessing(l1, l2, l3)"
   ]
  }
 ],
 "metadata": {
  "kernelspec": {
   "display_name": "base",
   "language": "python",
   "name": "python3"
  },
  "language_info": {
   "codemirror_mode": {
    "name": "ipython",
    "version": 3
   },
   "file_extension": ".py",
   "mimetype": "text/x-python",
   "name": "python",
   "nbconvert_exporter": "python",
   "pygments_lexer": "ipython3",
   "version": "3.11.4"
  }
 },
 "nbformat": 4,
 "nbformat_minor": 5
}
